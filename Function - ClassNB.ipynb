{
 "cells": [
  {
   "cell_type": "markdown",
   "id": "6a7941e9",
   "metadata": {},
   "source": [
    "# Chapter 8: Functions in Python"
   ]
  },
  {
   "cell_type": "markdown",
   "id": "9d8b91de",
   "metadata": {},
   "source": [
    "## Defining\n",
    "* A function is a block of code which only runs when it is called.\n",
    "\n",
    "* You can pass data, known as parameters, into a function.\n",
    "\n",
    "* A function can return data as a result."
   ]
  },
  {
   "cell_type": "markdown",
   "id": "6557ee86",
   "metadata": {},
   "source": [
    "### This is how you define a function in Python\n",
    "- 'def' keyword\n",
    "- name of the function\n",
    "- (parameters) --> parameters can also be empty\n",
    "- body of the function"
   ]
  },
  {
   "cell_type": "code",
   "execution_count": 3,
   "id": "42cfffc8",
   "metadata": {},
   "outputs": [],
   "source": [
    "#def name_of_the_function(parameters):\n",
    "    #Function body\n",
    "def my_function():\n",
    "    print(\"Hello\")\n",
    "    "
   ]
  },
  {
   "cell_type": "code",
   "execution_count": 4,
   "id": "e64f5e63",
   "metadata": {},
   "outputs": [
    {
     "name": "stdout",
     "output_type": "stream",
     "text": [
      "Hello\n"
     ]
    }
   ],
   "source": [
    "#call the function \n",
    "my_function()"
   ]
  },
  {
   "cell_type": "markdown",
   "id": "5c361e5a",
   "metadata": {},
   "source": [
    "### Why we need function?"
   ]
  },
  {
   "cell_type": "code",
   "execution_count": null,
   "id": "3501abf0",
   "metadata": {},
   "outputs": [],
   "source": [
    "print(\"2001 Newburg Rd.\")\n",
    "print(\"2001 Newburg Rd.\")\n",
    "print(\"2001 Newburg Rd.\")\n"
   ]
  },
  {
   "cell_type": "code",
   "execution_count": 6,
   "id": "ebe88bc7",
   "metadata": {},
   "outputs": [],
   "source": [
    "def address():\n",
    "    print(\"2001 Newburg Rd.\")"
   ]
  },
  {
   "cell_type": "code",
   "execution_count": 7,
   "id": "e9a824d8",
   "metadata": {},
   "outputs": [
    {
     "name": "stdout",
     "output_type": "stream",
     "text": [
      "2001 Newburg Rd.\n",
      "2001 Newburg Rd.\n",
      "2001 Newburg Rd.\n"
     ]
    }
   ],
   "source": [
    "address()\n",
    "address()\n",
    "address()\n"
   ]
  },
  {
   "cell_type": "markdown",
   "id": "d0f1621e",
   "metadata": {},
   "source": [
    "### Function with parameters"
   ]
  },
  {
   "cell_type": "markdown",
   "id": "08338a48",
   "metadata": {},
   "source": [
    "\n",
    "### The `return` statement: \n",
    "* Use inside a function or method to send the function’s result back to the caller. \n",
    "* A return statement consists of the `return` keyword followed by an optional return value\n",
    "\n",
    "* Three Ways to Return a Result to a Function’s Caller\n",
    "    * **`return`** followed by an expression.\n",
    "    * **`return`** without an expression implicitly returns **`None`**&mdash;represents the **absence of a value** and **evaluates to `False` in conditions**.\n",
    "    * **No `return` statement implicitly returns `None`**.\n"
   ]
  },
  {
   "cell_type": "code",
   "execution_count": 8,
   "id": "7d925d43",
   "metadata": {},
   "outputs": [],
   "source": [
    "# create a function that returns the square of a number\n",
    "import math\n",
    "def square(x):\n",
    "    return(math.pow(x,2))"
   ]
  },
  {
   "cell_type": "code",
   "execution_count": 10,
   "id": "b60d6e32",
   "metadata": {},
   "outputs": [
    {
     "data": {
      "text/plain": [
       "1447209.0"
      ]
     },
     "execution_count": 10,
     "metadata": {},
     "output_type": "execute_result"
    }
   ],
   "source": [
    "square(4)\n",
    "square(1203)"
   ]
  },
  {
   "cell_type": "code",
   "execution_count": 12,
   "id": "944ec384",
   "metadata": {},
   "outputs": [
    {
     "data": {
      "text/plain": [
       "64.0"
      ]
     },
     "execution_count": 12,
     "metadata": {},
     "output_type": "execute_result"
    }
   ],
   "source": [
    "# Cube of numbers\n",
    "import math\n",
    "def cube(x):\n",
    "    return(math.pow(x,3))\n",
    "cube(4)"
   ]
  },
  {
   "cell_type": "code",
   "execution_count": 14,
   "id": "f5635e43",
   "metadata": {},
   "outputs": [],
   "source": [
    "#print(x)\n",
    "#generate a name error \n",
    "#x is a local variable and only valued inside of the function "
   ]
  },
  {
   "cell_type": "code",
   "execution_count": null,
   "id": "aebcb8b0",
   "metadata": {},
   "outputs": [],
   "source": []
  },
  {
   "cell_type": "markdown",
   "id": "0ea073dd",
   "metadata": {},
   "source": [
    "## Our own functions for practice\n",
    "`Echo` that will act same as print"
   ]
  },
  {
   "cell_type": "code",
   "execution_count": 16,
   "id": "8b616e47",
   "metadata": {},
   "outputs": [
    {
     "data": {
      "text/plain": [
       "'name'"
      ]
     },
     "execution_count": 16,
     "metadata": {},
     "output_type": "execute_result"
    }
   ],
   "source": [
    "def Echo(data):\n",
    "    return data\n",
    "Echo(\"name\")"
   ]
  },
  {
   "cell_type": "code",
   "execution_count": 17,
   "id": "f65fdcf3",
   "metadata": {},
   "outputs": [
    {
     "data": {
      "text/plain": [
       "20"
      ]
     },
     "execution_count": 17,
     "metadata": {},
     "output_type": "execute_result"
    }
   ],
   "source": [
    "Echo(20)"
   ]
  },
  {
   "cell_type": "code",
   "execution_count": 18,
   "id": "cc018c7b",
   "metadata": {},
   "outputs": [
    {
     "ename": "NameError",
     "evalue": "name 'echo' is not defined",
     "output_type": "error",
     "traceback": [
      "\u001b[0;31m---------------------------------------------------------------------------\u001b[0m",
      "\u001b[0;31mNameError\u001b[0m                                 Traceback (most recent call last)",
      "Cell \u001b[0;32mIn[18], line 1\u001b[0m\n\u001b[0;32m----> 1\u001b[0m echo(name)\n",
      "\u001b[0;31mNameError\u001b[0m: name 'echo' is not defined"
     ]
    }
   ],
   "source": []
  },
  {
   "cell_type": "code",
   "execution_count": 19,
   "id": "34572a42",
   "metadata": {},
   "outputs": [],
   "source": [
    "def echo1(data):\n",
    "    print(data)"
   ]
  },
  {
   "cell_type": "code",
   "execution_count": 20,
   "id": "9210cc6d",
   "metadata": {},
   "outputs": [
    {
     "name": "stdout",
     "output_type": "stream",
     "text": [
      "23\n"
     ]
    }
   ],
   "source": [
    "echo1(23)"
   ]
  },
  {
   "cell_type": "markdown",
   "id": "5e46b2db",
   "metadata": {},
   "source": [
    "### Practice1 Favorite Book: Write a function called favorite_book() that accepts one parameter, title. \n",
    "The function should print a message, such as One of my\n",
    "favorite books is Alice in Wonderland. Call the function, making sure to\n",
    "include a book title as an argument in the function call."
   ]
  },
  {
   "cell_type": "code",
   "execution_count": 22,
   "id": "acb00f6e",
   "metadata": {},
   "outputs": [],
   "source": [
    "def favorite_book(title):\n",
    "    print(f\"One my favorite books is {title}\")\n",
    "    "
   ]
  },
  {
   "cell_type": "code",
   "execution_count": 25,
   "id": "9cc3c90d",
   "metadata": {},
   "outputs": [
    {
     "name": "stdout",
     "output_type": "stream",
     "text": [
      "One my favorite books is The Unwanteds\n"
     ]
    }
   ],
   "source": [
    "favorite_book(\"The Unwanteds\")"
   ]
  },
  {
   "cell_type": "markdown",
   "id": "83d0088a",
   "metadata": {},
   "source": [
    "### Functions with Multiple Parameters\n",
    "* `calc_MPG` function that determines the MPG from miles driven and gallons used"
   ]
  },
  {
   "cell_type": "code",
   "execution_count": 26,
   "id": "a50a0c0b",
   "metadata": {},
   "outputs": [],
   "source": [
    "def calc_MPG(miles_driven,gallon_used):\n",
    "    return miles_driven/gallon_used"
   ]
  },
  {
   "cell_type": "code",
   "execution_count": 29,
   "id": "cfdcf646",
   "metadata": {},
   "outputs": [
    {
     "name": "stdout",
     "output_type": "stream",
     "text": [
      "The MGP is 40.0\n"
     ]
    }
   ],
   "source": [
    "print(f\"The MGP is {calc_MPG(200,5)}\")"
   ]
  },
  {
   "cell_type": "code",
   "execution_count": 31,
   "id": "2e7d4b38",
   "metadata": {},
   "outputs": [
    {
     "name": "stdout",
     "output_type": "stream",
     "text": [
      "The MGP is 52.24\n"
     ]
    }
   ],
   "source": [
    "print(f\"The MGP is {calc_MPG(350,6.7):.2f}\")"
   ]
  },
  {
   "cell_type": "markdown",
   "id": "b5e05036",
   "metadata": {},
   "source": [
    "## Default Parameter\n",
    "With default parameters, you can specify a default value that will be used for the function. If you pass a parameter in for the default value, it uses that value instead. \n",
    "### def MPG(miles=200,gallon=12)"
   ]
  },
  {
   "cell_type": "code",
   "execution_count": 6,
   "id": "12309231",
   "metadata": {},
   "outputs": [
    {
     "data": {
      "text/plain": [
       "16.666666666666668"
      ]
     },
     "execution_count": 6,
     "metadata": {},
     "output_type": "execute_result"
    }
   ],
   "source": [
    "def MPG(miles=200,gallon=12):\n",
    "    return (miles/gallon)\n",
    "MPG()"
   ]
  },
  {
   "cell_type": "code",
   "execution_count": 7,
   "id": "899b006a",
   "metadata": {},
   "outputs": [
    {
     "data": {
      "text/plain": [
       "10.0"
      ]
     },
     "execution_count": 7,
     "metadata": {},
     "output_type": "execute_result"
    }
   ],
   "source": [
    "MPG(miles=120)"
   ]
  },
  {
   "cell_type": "code",
   "execution_count": 8,
   "id": "85334956",
   "metadata": {},
   "outputs": [
    {
     "data": {
      "text/plain": [
       "20.0"
      ]
     },
     "execution_count": 8,
     "metadata": {},
     "output_type": "execute_result"
    }
   ],
   "source": [
    "MPG(gallon=10)"
   ]
  },
  {
   "cell_type": "code",
   "execution_count": 9,
   "id": "e8f3ee04",
   "metadata": {},
   "outputs": [
    {
     "data": {
      "text/plain": [
       "40.0"
      ]
     },
     "execution_count": 9,
     "metadata": {},
     "output_type": "execute_result"
    }
   ],
   "source": [
    "MPG(miles=600,gallon=15)"
   ]
  },
  {
   "cell_type": "markdown",
   "id": "c7f67792",
   "metadata": {},
   "source": [
    "###  Function repeat using `for` loop"
   ]
  },
  {
   "cell_type": "code",
   "execution_count": 16,
   "id": "485f3873",
   "metadata": {},
   "outputs": [],
   "source": [
    "# echo \n",
    "def repeat_echo(data,count):\n",
    "    for i in range(count):\n",
    "        print(data, i+1)"
   ]
  },
  {
   "cell_type": "code",
   "execution_count": 17,
   "id": "a1699662",
   "metadata": {},
   "outputs": [
    {
     "name": "stdout",
     "output_type": "stream",
     "text": [
      "Hello 1\n",
      "Hello 2\n",
      "Hello 3\n",
      "Hello 4\n",
      "Hello 5\n",
      "Hello 6\n",
      "Hello 7\n",
      "Hello 8\n",
      "Hello 9\n",
      "Hello 10\n"
     ]
    }
   ],
   "source": [
    "repeat_echo(\"Hello\",10)"
   ]
  },
  {
   "cell_type": "markdown",
   "id": "b3003a72",
   "metadata": {},
   "source": [
    "## Practice: Define a function called `name` and print your name 20 times using the function"
   ]
  },
  {
   "cell_type": "code",
   "execution_count": 23,
   "id": "74ecdff8",
   "metadata": {},
   "outputs": [],
   "source": [
    "def name(name,count):\n",
    "    for i in range(count):\n",
    "        print(name, i+1)"
   ]
  },
  {
   "cell_type": "code",
   "execution_count": 24,
   "id": "29fcb1c1",
   "metadata": {},
   "outputs": [
    {
     "name": "stdout",
     "output_type": "stream",
     "text": [
      "Kadin 1\n",
      "Kadin 2\n",
      "Kadin 3\n",
      "Kadin 4\n",
      "Kadin 5\n",
      "Kadin 6\n",
      "Kadin 7\n",
      "Kadin 8\n",
      "Kadin 9\n",
      "Kadin 10\n",
      "Kadin 11\n",
      "Kadin 12\n",
      "Kadin 13\n",
      "Kadin 14\n",
      "Kadin 15\n",
      "Kadin 16\n",
      "Kadin 17\n",
      "Kadin 18\n",
      "Kadin 19\n",
      "Kadin 20\n"
     ]
    }
   ],
   "source": [
    "name(\"Kadin\",20)"
   ]
  },
  {
   "cell_type": "code",
   "execution_count": null,
   "id": "c265d77c",
   "metadata": {},
   "outputs": [],
   "source": []
  },
  {
   "cell_type": "code",
   "execution_count": null,
   "id": "255cdef1",
   "metadata": {},
   "outputs": [],
   "source": []
  },
  {
   "cell_type": "markdown",
   "id": "c9b50f99",
   "metadata": {},
   "source": [
    "### Write a function to find maximum of three values"
   ]
  },
  {
   "cell_type": "code",
   "execution_count": 28,
   "id": "cf2eba04",
   "metadata": {},
   "outputs": [],
   "source": [
    "def maximum(a,b,c):\n",
    "    if a>b and a>c:\n",
    "        largest=a\n",
    "    elif b>c:\n",
    "        largest=b\n",
    "    else:\n",
    "        largest=c\n",
    "    return largest"
   ]
  },
  {
   "cell_type": "code",
   "execution_count": 29,
   "id": "333853e2",
   "metadata": {},
   "outputs": [
    {
     "data": {
      "text/plain": [
       "43"
      ]
     },
     "execution_count": 29,
     "metadata": {},
     "output_type": "execute_result"
    }
   ],
   "source": [
    "maximum(12,32,43)"
   ]
  },
  {
   "cell_type": "code",
   "execution_count": 31,
   "id": "b7737b3e",
   "metadata": {},
   "outputs": [
    {
     "data": {
      "text/plain": [
       "'z'"
      ]
     },
     "execution_count": 31,
     "metadata": {},
     "output_type": "execute_result"
    }
   ],
   "source": [
    "maximum(\"a\",\"B\",\"z\")"
   ]
  },
  {
   "cell_type": "code",
   "execution_count": 32,
   "id": "082bbdf5",
   "metadata": {},
   "outputs": [
    {
     "data": {
      "text/plain": [
       "'Sun'"
      ]
     },
     "execution_count": 32,
     "metadata": {},
     "output_type": "execute_result"
    }
   ],
   "source": [
    "maximum(\"Sun\",\"Moon\",\"Earth\")"
   ]
  },
  {
   "cell_type": "markdown",
   "id": "1a8c15bd",
   "metadata": {},
   "source": [
    "### Practice Example: Define `minimum` function of three values"
   ]
  },
  {
   "cell_type": "code",
   "execution_count": 33,
   "id": "4d547ad4",
   "metadata": {},
   "outputs": [],
   "source": [
    "def minimum(a,b,c):\n",
    "    if a<b and a<c:\n",
    "        smallest=a\n",
    "    elif b<c:\n",
    "        smallest=b\n",
    "    else:\n",
    "        smallest=c\n",
    "    return smallest"
   ]
  },
  {
   "cell_type": "code",
   "execution_count": 34,
   "id": "996fb196",
   "metadata": {},
   "outputs": [
    {
     "data": {
      "text/plain": [
       "3"
      ]
     },
     "execution_count": 34,
     "metadata": {},
     "output_type": "execute_result"
    }
   ],
   "source": [
    "minimum(12,3,45)"
   ]
  },
  {
   "cell_type": "markdown",
   "id": "f20ad451",
   "metadata": {},
   "source": [
    "#  Arbitrary Argument Lists\n",
    "*  **`*args`**, indicating that the function can receive any number of additional arguments. \n",
    "* The `*` before the parameter name tells Python to pack any remaining arguments into a tuple that’s passed to the `args` parameter."
   ]
  },
  {
   "cell_type": "code",
   "execution_count": 39,
   "id": "c8b8817e",
   "metadata": {},
   "outputs": [],
   "source": [
    "def get_mean(*arg): #can use any variable name doesn't have to be args \n",
    "    return sum(arg)/len(arg)"
   ]
  },
  {
   "cell_type": "code",
   "execution_count": 40,
   "id": "607b5195",
   "metadata": {},
   "outputs": [
    {
     "data": {
      "text/plain": [
       "987.0769230769231"
      ]
     },
     "execution_count": 40,
     "metadata": {},
     "output_type": "execute_result"
    }
   ],
   "source": [
    "get_mean(12,2,121,212,123,45,5432,34,5654,312,334,546,5)"
   ]
  },
  {
   "cell_type": "code",
   "execution_count": null,
   "id": "d86a3099",
   "metadata": {},
   "outputs": [],
   "source": []
  },
  {
   "cell_type": "markdown",
   "id": "84b44203",
   "metadata": {},
   "source": [
    "### Arbitary Argumented list with list"
   ]
  },
  {
   "cell_type": "code",
   "execution_count": 63,
   "id": "3c6bb74b",
   "metadata": {},
   "outputs": [
    {
     "name": "stdout",
     "output_type": "stream",
     "text": [
      "[46, 12, 37, 40, 46, 10, 23, 39, 41, 27]\n"
     ]
    }
   ],
   "source": [
    "#create a random numbers list of 10 values in a range of 10,50(included)\n",
    "import random\n",
    "random.seed(10)\n",
    "Numbers=[]\n",
    "for i in range(10):\n",
    "    x=random.randint(10,50)\n",
    "    Numbers.append(x)\n",
    "print(Numbers)"
   ]
  },
  {
   "cell_type": "code",
   "execution_count": 65,
   "id": "bdbadee9",
   "metadata": {},
   "outputs": [
    {
     "data": {
      "text/plain": [
       "32.1"
      ]
     },
     "execution_count": 65,
     "metadata": {},
     "output_type": "execute_result"
    }
   ],
   "source": [
    "get_mean(*Numbers)"
   ]
  },
  {
   "cell_type": "markdown",
   "id": "688d1f13",
   "metadata": {},
   "source": [
    "### More about functions\n",
    "In this session we looked at the concept of `scope`, working with `random numbers`, `statictics` and using various versions of import to work with different functions in module."
   ]
  },
  {
   "cell_type": "markdown",
   "id": "d21db560",
   "metadata": {},
   "source": [
    "### Scope\n",
    "* Each identifier has a `scope` that determines where you can use it in your program.\n",
    "\n",
    "* A local variable’s identifier has **local scope**. \n",
    "\n",
    "* Identifiers defined outside any function (or class) have **global scope**—these may include functions, variables and classes."
   ]
  },
  {
   "cell_type": "markdown",
   "id": "d8e69b30",
   "metadata": {},
   "source": [
    "One thing you don't want to do is create a variable and function with the same name. The variable will \"hide\" the function and prevent you from calling it. If you execute the cell below it will throw an error."
   ]
  },
  {
   "cell_type": "code",
   "execution_count": 2,
   "id": "a646455d",
   "metadata": {},
   "outputs": [
    {
     "data": {
      "text/plain": [
       "6"
      ]
     },
     "execution_count": 2,
     "metadata": {},
     "output_type": "execute_result"
    }
   ],
   "source": [
    "x=10 #global variable \n",
    "def scope_of_function():\n",
    "    num=3\n",
    "    return num*2\n",
    "scope_of_function()\n",
    "    "
   ]
  },
  {
   "cell_type": "code",
   "execution_count": 4,
   "id": "0ecc0ffd",
   "metadata": {},
   "outputs": [],
   "source": [
    "#print(num) generates an error due to its local scope "
   ]
  },
  {
   "cell_type": "code",
   "execution_count": null,
   "id": "49ceeeea",
   "metadata": {},
   "outputs": [],
   "source": []
  },
  {
   "cell_type": "markdown",
   "id": "1a55bc5e",
   "metadata": {},
   "source": [
    "* By default, you cannot _modify_ a global variable in a function\n",
    "* Python creates a **new local variable** when you first assign a value to a variable in a function’s block.\n",
    "* In function `try_to_modify_global`’s block, the local `x` **shadows** the global `x`, making it inaccessible in the scope of the function’s block. "
   ]
  },
  {
   "cell_type": "code",
   "execution_count": 5,
   "id": "607bd492",
   "metadata": {},
   "outputs": [],
   "source": [
    "x=10 # global scope \n",
    "def try_to_define_global():\n",
    "    x=3.5\n",
    "    return x"
   ]
  },
  {
   "cell_type": "code",
   "execution_count": 6,
   "id": "effcd2a9",
   "metadata": {},
   "outputs": [
    {
     "data": {
      "text/plain": [
       "3.5"
      ]
     },
     "execution_count": 6,
     "metadata": {},
     "output_type": "execute_result"
    }
   ],
   "source": [
    "try_to_define_global()\n"
   ]
  },
  {
   "cell_type": "code",
   "execution_count": 7,
   "id": "e2ffbcae",
   "metadata": {},
   "outputs": [
    {
     "name": "stdout",
     "output_type": "stream",
     "text": [
      "10\n"
     ]
    }
   ],
   "source": [
    "print(x)\n"
   ]
  },
  {
   "cell_type": "markdown",
   "id": "3023353c",
   "metadata": {},
   "source": [
    "* To modify a global variable in a function’s block, you must use a **`global`** statement to declare that the variable is defined in the global scope: \"modify_global\""
   ]
  },
  {
   "cell_type": "code",
   "execution_count": 8,
   "id": "ad58975d",
   "metadata": {},
   "outputs": [],
   "source": [
    "x=10 \n",
    "def modify_global():\n",
    "    global x\n",
    "    x=3.5\n",
    "    return x"
   ]
  },
  {
   "cell_type": "code",
   "execution_count": 9,
   "id": "c9231ad6",
   "metadata": {},
   "outputs": [
    {
     "name": "stdout",
     "output_type": "stream",
     "text": [
      "10\n",
      "3.5\n"
     ]
    }
   ],
   "source": [
    "print(x)\n",
    "modify_global()\n",
    "print(x)"
   ]
  },
  {
   "cell_type": "markdown",
   "id": "109a13bb",
   "metadata": {},
   "source": [
    "## Write functions to find out Area and Perimeter of circle"
   ]
  },
  {
   "cell_type": "code",
   "execution_count": 10,
   "id": "19453914",
   "metadata": {},
   "outputs": [],
   "source": [
    "import math\n",
    "def area_circle(r):\n",
    "    return math.pi*math.pow(r,2)\n"
   ]
  },
  {
   "cell_type": "code",
   "execution_count": 13,
   "id": "3cc23bf3",
   "metadata": {},
   "outputs": [
    {
     "name": "stdout",
     "output_type": "stream",
     "text": [
      "The area of the circle is : 314.16\n"
     ]
    }
   ],
   "source": [
    "print(f\"The area of the circle is : {area_circle(10):.2f}\")"
   ]
  },
  {
   "cell_type": "code",
   "execution_count": 15,
   "id": "416ab6b5",
   "metadata": {},
   "outputs": [
    {
     "name": "stdout",
     "output_type": "stream",
     "text": [
      "The perimeter of the circle is 62.832\n"
     ]
    }
   ],
   "source": [
    "def peri_circle(r):\n",
    "    return 2*math.pi*r\n",
    "print(f\"The perimeter of the circle is {peri_circle(10):.3f}\")"
   ]
  },
  {
   "cell_type": "markdown",
   "id": "df6f51b1",
   "metadata": {},
   "source": [
    "## Write functions to find out Area and Perimeter of rectangle"
   ]
  },
  {
   "cell_type": "code",
   "execution_count": 16,
   "id": "d3b789f5",
   "metadata": {},
   "outputs": [
    {
     "name": "stdout",
     "output_type": "stream",
     "text": [
      "200\n",
      "60\n"
     ]
    }
   ],
   "source": [
    "def area_rectangle(b,h):\n",
    "    return b*h\n",
    "def peri_rectangle(b,h,):\n",
    "    return 2*(b+h)\n",
    "print(area_rectangle(10,20))\n",
    "print(peri_rectangle(10,20))"
   ]
  }
 ],
 "metadata": {
  "kernelspec": {
   "display_name": "Python 3 (ipykernel)",
   "language": "python",
   "name": "python3"
  },
  "language_info": {
   "codemirror_mode": {
    "name": "ipython",
    "version": 3
   },
   "file_extension": ".py",
   "mimetype": "text/x-python",
   "name": "python",
   "nbconvert_exporter": "python",
   "pygments_lexer": "ipython3",
   "version": "3.11.4"
  }
 },
 "nbformat": 4,
 "nbformat_minor": 5
}
