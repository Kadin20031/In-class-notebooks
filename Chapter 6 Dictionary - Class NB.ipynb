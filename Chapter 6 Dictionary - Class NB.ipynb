{
 "cells": [
  {
   "cell_type": "markdown",
   "id": "73943399",
   "metadata": {},
   "source": [
    "# 6. Working with Dictionaries\n",
    "* A dictionary in Python is a collection of key-value pairs. \n",
    "* Each key is connected to a value, and you can use a key to access the value associated with that key.\n",
    "* A key’s value can be a number, a string, a list, or even another dictionary.\n",
    "\n",
    "* `Key` is the unique identifier to find data and the `value` is the data\n",
    "\n",
    "* A dictionary is a collection which is ordered*, changeable and does not allow duplicates.\n",
    "\n",
    "* Unlike strings, lists, and tuples, **dictionaries are not sequences** - the data are not stored in order. \n",
    "* List can be represented by [ ], Tuple can be represented by ( ), Dictionary  can be represented by { }"
   ]
  },
  {
   "cell_type": "code",
   "execution_count": 8,
   "id": "05999d3a",
   "metadata": {},
   "outputs": [
    {
     "data": {
      "text/plain": [
       "dict"
      ]
     },
     "execution_count": 8,
     "metadata": {},
     "output_type": "execute_result"
    }
   ],
   "source": [
    "# Empty Dictionary\n",
    "Dict={}\n",
    "type(Dict)"
   ]
  },
  {
   "cell_type": "code",
   "execution_count": 9,
   "id": "88e3e9ba",
   "metadata": {},
   "outputs": [
    {
     "data": {
      "text/plain": [
       "dict"
      ]
     },
     "execution_count": 9,
     "metadata": {},
     "output_type": "execute_result"
    }
   ],
   "source": [
    "Dict1=dict()\n",
    "type(Dict1)"
   ]
  },
  {
   "cell_type": "code",
   "execution_count": 10,
   "id": "c44df62b",
   "metadata": {},
   "outputs": [],
   "source": [
    "data={'Alabama':'Montgomary',\n",
    "     'Arizona':'Pheonix',\n",
    "     'Georgia':'Atlanta',\n",
    "     'Kentucky':'Frankfort',\n",
    "     'Ohio':'Columbus'}"
   ]
  },
  {
   "cell_type": "markdown",
   "id": "4be8c616",
   "metadata": {},
   "source": [
    "### Access `values` from a dictionary using key\n",
    "* Key and values can be any data types\n",
    "* Accessing key value not present in dictionary generated KeyError"
   ]
  },
  {
   "cell_type": "code",
   "execution_count": 11,
   "id": "aab3f949",
   "metadata": {},
   "outputs": [
    {
     "data": {
      "text/plain": [
       "'Columbus'"
      ]
     },
     "execution_count": 11,
     "metadata": {},
     "output_type": "execute_result"
    }
   ],
   "source": [
    "data['Ohio']"
   ]
  },
  {
   "cell_type": "code",
   "execution_count": 12,
   "id": "fe9e3886",
   "metadata": {},
   "outputs": [
    {
     "data": {
      "text/plain": [
       "'Atlanta'"
      ]
     },
     "execution_count": 12,
     "metadata": {},
     "output_type": "execute_result"
    }
   ],
   "source": [
    "data['Georgia']"
   ]
  },
  {
   "cell_type": "code",
   "execution_count": 13,
   "id": "e4eb565d",
   "metadata": {},
   "outputs": [],
   "source": [
    "#Generate a key error if the key is not present in the dictionary \n",
    "#data['New York']"
   ]
  },
  {
   "cell_type": "code",
   "execution_count": 14,
   "id": "c7dae653",
   "metadata": {},
   "outputs": [],
   "source": [
    "day={1:'Monday',\n",
    "    2: 'Tuesday',\n",
    "    4: ('Thursday', 'Friday'),\n",
    "    5: ['Saturday','Sunday']}"
   ]
  },
  {
   "cell_type": "markdown",
   "id": "bc6af6fc",
   "metadata": {},
   "source": [
    "### Update elements of a dictionary and add new elements"
   ]
  },
  {
   "cell_type": "code",
   "execution_count": 15,
   "id": "f62f227f",
   "metadata": {},
   "outputs": [
    {
     "data": {
      "text/plain": [
       "'Thursday'"
      ]
     },
     "execution_count": 15,
     "metadata": {},
     "output_type": "execute_result"
    }
   ],
   "source": [
    "#Thursday \n",
    "day[4][0] #day[key][index]"
   ]
  },
  {
   "cell_type": "code",
   "execution_count": 16,
   "id": "4bacb057",
   "metadata": {},
   "outputs": [
    {
     "data": {
      "text/plain": [
       "'Sunday'"
      ]
     },
     "execution_count": 16,
     "metadata": {},
     "output_type": "execute_result"
    }
   ],
   "source": [
    "#Sunday \n",
    "day[5][1]"
   ]
  },
  {
   "cell_type": "code",
   "execution_count": 17,
   "id": "12020351",
   "metadata": {},
   "outputs": [
    {
     "data": {
      "text/plain": [
       "{1: 'Monday',\n",
       " 2: 'Tuesday',\n",
       " 4: ('Thursday', 'Friday'),\n",
       " 5: ['Saturday', 'Sunday'],\n",
       " 3: 'Wednesday'}"
      ]
     },
     "execution_count": 17,
     "metadata": {},
     "output_type": "execute_result"
    }
   ],
   "source": [
    "day[3]='Wednesday'\n",
    "day\n"
   ]
  },
  {
   "cell_type": "code",
   "execution_count": 18,
   "id": "df06c784",
   "metadata": {},
   "outputs": [
    {
     "data": {
      "text/plain": [
       "{1: 'Monday',\n",
       " 2: 'Tuesday',\n",
       " 4: ('Thursday', 'Friday'),\n",
       " 5: ['Holiday', 'Sunday'],\n",
       " 3: 'Wednesday'}"
      ]
     },
     "execution_count": 18,
     "metadata": {},
     "output_type": "execute_result"
    }
   ],
   "source": [
    "# update Saturday to holiday \n",
    "\n",
    "day[5][0]='Holiday'\n",
    "day"
   ]
  },
  {
   "cell_type": "code",
   "execution_count": 19,
   "id": "454b2a27",
   "metadata": {},
   "outputs": [
    {
     "data": {
      "text/plain": [
       "{1: 'Monday',\n",
       " 2: 'Tuesday',\n",
       " 4: ('Thursday', 'Friday'),\n",
       " 5: ['Holiday', 'Holiday'],\n",
       " 3: 'Wednesday'}"
      ]
     },
     "execution_count": 19,
     "metadata": {},
     "output_type": "execute_result"
    }
   ],
   "source": [
    "#update sunday to holiday\n",
    "day[5][1]=\"Holiday\"\n",
    "#update thursday to holdiay\n",
    "# day[4][0]=\"Holiday\" # Cannot update a tuple\n",
    "day"
   ]
  },
  {
   "cell_type": "markdown",
   "id": "f7bb990f",
   "metadata": {},
   "source": [
    "### `get` and `update` methods\n",
    "- get used to access a value from dictionary \n",
    "- updates the dictionary with new value also update the old value "
   ]
  },
  {
   "cell_type": "code",
   "execution_count": 20,
   "id": "071c6f12",
   "metadata": {},
   "outputs": [
    {
     "data": {
      "text/plain": [
       "'Wednesday'"
      ]
     },
     "execution_count": 20,
     "metadata": {},
     "output_type": "execute_result"
    }
   ],
   "source": [
    "#Return wednesday \n",
    "day.get(3)"
   ]
  },
  {
   "cell_type": "code",
   "execution_count": 21,
   "id": "10cd3add",
   "metadata": {},
   "outputs": [
    {
     "data": {
      "text/plain": [
       "'Monday'"
      ]
     },
     "execution_count": 21,
     "metadata": {},
     "output_type": "execute_result"
    }
   ],
   "source": [
    "#Monday\n",
    "day.get(1)"
   ]
  },
  {
   "cell_type": "code",
   "execution_count": 22,
   "id": "afdf81cb",
   "metadata": {},
   "outputs": [],
   "source": [
    "day.get(6) # not generating an error if the key is not present in the dictionary "
   ]
  },
  {
   "cell_type": "code",
   "execution_count": 23,
   "id": "c99acf1a",
   "metadata": {},
   "outputs": [],
   "source": [
    "# day[6]"
   ]
  },
  {
   "cell_type": "code",
   "execution_count": 24,
   "id": "19e0714e",
   "metadata": {},
   "outputs": [
    {
     "data": {
      "text/plain": [
       "{'Alabama': 'Montgomary',\n",
       " 'Arizona': 'Pheonix',\n",
       " 'Georgia': 'Atlanta',\n",
       " 'Kentucky': 'Frankfort',\n",
       " 'Ohio': 'Columbus'}"
      ]
     },
     "execution_count": 24,
     "metadata": {},
     "output_type": "execute_result"
    }
   ],
   "source": [
    "data"
   ]
  },
  {
   "cell_type": "code",
   "execution_count": 25,
   "id": "694acd6f",
   "metadata": {},
   "outputs": [
    {
     "data": {
      "text/plain": [
       "{'Alabama': 'Montgomary',\n",
       " 'Arizona': 'Pheonix',\n",
       " 'Georgia': 'Atlanta',\n",
       " 'Kentucky': 'Louisville',\n",
       " 'Ohio': 'Columbus'}"
      ]
     },
     "execution_count": 25,
     "metadata": {},
     "output_type": "execute_result"
    }
   ],
   "source": [
    "#update old entry \n",
    "data.update({'Kentucky':'Louisville'})\n",
    "data"
   ]
  },
  {
   "cell_type": "code",
   "execution_count": 26,
   "id": "a9cfbb2b",
   "metadata": {},
   "outputs": [
    {
     "data": {
      "text/plain": [
       "{'Alabama': 'Montgomary',\n",
       " 'Arizona': 'Pheonix',\n",
       " 'Georgia': 'Atlanta',\n",
       " 'Kentucky': 'Louisville',\n",
       " 'Ohio': 'Columbus',\n",
       " 'Louisiana': 'Baton Rouge'}"
      ]
     },
     "execution_count": 26,
     "metadata": {},
     "output_type": "execute_result"
    }
   ],
   "source": [
    "#new entry\n",
    "data.update({'Louisiana':'Baton Rouge'})\n",
    "data\n"
   ]
  },
  {
   "cell_type": "code",
   "execution_count": 27,
   "id": "abb510dd",
   "metadata": {},
   "outputs": [
    {
     "data": {
      "text/plain": [
       "{'Alabama': 'Montgomary',\n",
       " 'Arizona': 'Pheonix',\n",
       " 'Georgia': 'Atlanta',\n",
       " 'Kentucky': 'Frankfort',\n",
       " 'Ohio': 'Columbus',\n",
       " 'Louisiana': 'Baton Rouge',\n",
       " 'Missouri': 'Jefferson City'}"
      ]
     },
     "execution_count": 27,
     "metadata": {},
     "output_type": "execute_result"
    }
   ],
   "source": [
    "data.update({'Missouri':'Jefferson City',\n",
    "             'Kentucky':'Frankfort'})\n",
    "data"
   ]
  },
  {
   "cell_type": "markdown",
   "id": "18536626",
   "metadata": {},
   "source": [
    "### Delete dictionary items using `del` and `pop`"
   ]
  },
  {
   "cell_type": "code",
   "execution_count": 61,
   "id": "ebc3b904",
   "metadata": {},
   "outputs": [
    {
     "data": {
      "text/plain": [
       "{'Arizona': 'Pheonix',\n",
       " 'Georgia': 'Atlanta',\n",
       " 'Kentucky': 'Frankfort',\n",
       " 'Ohio': 'Columbus',\n",
       " 'Louisiana': 'Baton Rouge',\n",
       " 'Missouri': 'Jefferson City'}"
      ]
     },
     "execution_count": 61,
     "metadata": {},
     "output_type": "execute_result"
    }
   ],
   "source": [
    "#delte alabama using del method \n",
    "del data['Alabama']\n",
    "data"
   ]
  },
  {
   "cell_type": "code",
   "execution_count": 62,
   "id": "fc64b2ed",
   "metadata": {},
   "outputs": [
    {
     "data": {
      "text/plain": [
       "'Columbus'"
      ]
     },
     "execution_count": 62,
     "metadata": {},
     "output_type": "execute_result"
    }
   ],
   "source": [
    "#delete ohio using pop\n",
    "data.pop('Ohio')"
   ]
  },
  {
   "cell_type": "code",
   "execution_count": 39,
   "id": "e3993e4c",
   "metadata": {},
   "outputs": [
    {
     "data": {
      "text/plain": [
       "{'Arizona': 'Pheonix',\n",
       " 'Georgia': 'Atlanta',\n",
       " 'Kentucky': 'Frankfort',\n",
       " 'Louisiana': 'Baton Rouge',\n",
       " 'Missouri': 'Jefferson City'}"
      ]
     },
     "execution_count": 39,
     "metadata": {},
     "output_type": "execute_result"
    }
   ],
   "source": [
    "data"
   ]
  },
  {
   "cell_type": "code",
   "execution_count": 63,
   "id": "0fd87cfa",
   "metadata": {},
   "outputs": [],
   "source": [
    "#delete the dictionary \n",
    "del data"
   ]
  },
  {
   "cell_type": "code",
   "execution_count": 65,
   "id": "575426e0",
   "metadata": {},
   "outputs": [],
   "source": [
    "#name error as the dictionary not present any more\n",
    "#data\n"
   ]
  },
  {
   "cell_type": "markdown",
   "id": "610aae76",
   "metadata": {},
   "source": [
    "### Number of elements in the dictionary and extracting `keys()`, `values()`, `items()`"
   ]
  },
  {
   "cell_type": "code",
   "execution_count": 66,
   "id": "f13bd3ba",
   "metadata": {},
   "outputs": [],
   "source": [
    "data={'Alabama':'Montgomary',\n",
    "     'Arizona':'Pheonix',\n",
    "     'Georgia':'Atlanta',\n",
    "     'Kentucky':'Frankfort',\n",
    "     'Ohio':'Columbus'}"
   ]
  },
  {
   "cell_type": "code",
   "execution_count": 67,
   "id": "2dc054eb",
   "metadata": {},
   "outputs": [
    {
     "data": {
      "text/plain": [
       "dict_keys(['Alabama', 'Arizona', 'Georgia', 'Kentucky', 'Ohio'])"
      ]
     },
     "execution_count": 67,
     "metadata": {},
     "output_type": "execute_result"
    }
   ],
   "source": [
    "data.keys()"
   ]
  },
  {
   "cell_type": "code",
   "execution_count": 68,
   "id": "5a7ca4a5",
   "metadata": {},
   "outputs": [
    {
     "data": {
      "text/plain": [
       "dict_values(['Montgomary', 'Pheonix', 'Atlanta', 'Frankfort', 'Columbus'])"
      ]
     },
     "execution_count": 68,
     "metadata": {},
     "output_type": "execute_result"
    }
   ],
   "source": [
    "data.values()"
   ]
  },
  {
   "cell_type": "code",
   "execution_count": 69,
   "id": "1d31365f",
   "metadata": {},
   "outputs": [
    {
     "data": {
      "text/plain": [
       "dict_items([('Alabama', 'Montgomary'), ('Arizona', 'Pheonix'), ('Georgia', 'Atlanta'), ('Kentucky', 'Frankfort'), ('Ohio', 'Columbus')])"
      ]
     },
     "execution_count": 69,
     "metadata": {},
     "output_type": "execute_result"
    }
   ],
   "source": [
    "data.items()"
   ]
  },
  {
   "cell_type": "code",
   "execution_count": null,
   "id": "0db183c4",
   "metadata": {},
   "outputs": [],
   "source": []
  },
  {
   "cell_type": "code",
   "execution_count": null,
   "id": "a1c19204",
   "metadata": {},
   "outputs": [],
   "source": []
  },
  {
   "cell_type": "markdown",
   "id": "ab9e78f2",
   "metadata": {},
   "source": [
    "### Loop through a dictionary (for loop)"
   ]
  },
  {
   "cell_type": "code",
   "execution_count": 2,
   "id": "941bf04e",
   "metadata": {},
   "outputs": [
    {
     "ename": "NameError",
     "evalue": "name 'data' is not defined",
     "output_type": "error",
     "traceback": [
      "\u001b[0;31m---------------------------------------------------------------------------\u001b[0m",
      "\u001b[0;31mNameError\u001b[0m                                 Traceback (most recent call last)",
      "Cell \u001b[0;32mIn[2], line 2\u001b[0m\n\u001b[1;32m      1\u001b[0m \u001b[38;5;66;03m#unpack the dictionary keys \u001b[39;00m\n\u001b[0;32m----> 2\u001b[0m \u001b[38;5;28;01mfor\u001b[39;00m i \u001b[38;5;129;01min\u001b[39;00m data:\n\u001b[1;32m      3\u001b[0m     \u001b[38;5;28mprint\u001b[39m(i)\n\u001b[1;32m      4\u001b[0m     \u001b[38;5;28mprint\u001b[39m(\u001b[38;5;28mtype\u001b[39m(i))\n",
      "\u001b[0;31mNameError\u001b[0m: name 'data' is not defined"
     ]
    }
   ],
   "source": [
    "#unpack the dictionary keys \n",
    "for i in data:\n",
    "    print(i)\n",
    "    print(type(i))\n",
    "    "
   ]
  },
  {
   "cell_type": "code",
   "execution_count": 72,
   "id": "fe239e39",
   "metadata": {},
   "outputs": [
    {
     "name": "stdout",
     "output_type": "stream",
     "text": [
      "Montgomary\n",
      "Pheonix\n",
      "Atlanta\n",
      "Frankfort\n",
      "Columbus\n"
     ]
    }
   ],
   "source": [
    "#unpack the dictionary values\n",
    "for j in data.values():\n",
    "    print(j)\n",
    "    "
   ]
  },
  {
   "cell_type": "code",
   "execution_count": 76,
   "id": "c0746d46",
   "metadata": {},
   "outputs": [
    {
     "name": "stdout",
     "output_type": "stream",
     "text": [
      "('Alabama', 'Montgomary')\n",
      "<class 'tuple'>\n",
      "('Arizona', 'Pheonix')\n",
      "<class 'tuple'>\n",
      "('Georgia', 'Atlanta')\n",
      "<class 'tuple'>\n",
      "('Kentucky', 'Frankfort')\n",
      "<class 'tuple'>\n",
      "('Ohio', 'Columbus')\n",
      "<class 'tuple'>\n"
     ]
    }
   ],
   "source": [
    "#dictionary items\n",
    "for k in data.items():\n",
    "    print(k)\n",
    "    print(type(k))\n",
    "    "
   ]
  },
  {
   "cell_type": "code",
   "execution_count": 79,
   "id": "e07995b1",
   "metadata": {},
   "outputs": [
    {
     "name": "stdout",
     "output_type": "stream",
     "text": [
      "state:Alabama\n",
      "capital:Montgomary\n",
      "state:Arizona\n",
      "capital:Pheonix\n",
      "state:Georgia\n",
      "capital:Atlanta\n",
      "state:Kentucky\n",
      "capital:Frankfort\n",
      "state:Ohio\n",
      "capital:Columbus\n"
     ]
    }
   ],
   "source": [
    "#unpack dictionary items\n",
    "for j,k in data.items():\n",
    "    print(\"state:\"+j)\n",
    "    print(\"capital:\"+k)"
   ]
  },
  {
   "cell_type": "markdown",
   "id": "82ec7aff",
   "metadata": {},
   "source": [
    "### Convert dictionary to lists using `list()` function"
   ]
  },
  {
   "cell_type": "code",
   "execution_count": 80,
   "id": "afcede6e",
   "metadata": {},
   "outputs": [
    {
     "data": {
      "text/plain": [
       "{'Alabama': 'Montgomary',\n",
       " 'Arizona': 'Pheonix',\n",
       " 'Georgia': 'Atlanta',\n",
       " 'Kentucky': 'Frankfort',\n",
       " 'Ohio': 'Columbus'}"
      ]
     },
     "execution_count": 80,
     "metadata": {},
     "output_type": "execute_result"
    }
   ],
   "source": [
    "data"
   ]
  },
  {
   "cell_type": "code",
   "execution_count": 82,
   "id": "b85f9771",
   "metadata": {},
   "outputs": [
    {
     "data": {
      "text/plain": [
       "['Alabama', 'Arizona', 'Georgia', 'Kentucky', 'Ohio']"
      ]
     },
     "execution_count": 82,
     "metadata": {},
     "output_type": "execute_result"
    }
   ],
   "source": [
    "#dictionary keys to a list \n",
    "list(data.keys())"
   ]
  },
  {
   "cell_type": "code",
   "execution_count": 83,
   "id": "1513a1e3",
   "metadata": {},
   "outputs": [
    {
     "data": {
      "text/plain": [
       "['Montgomary', 'Pheonix', 'Atlanta', 'Frankfort', 'Columbus']"
      ]
     },
     "execution_count": 83,
     "metadata": {},
     "output_type": "execute_result"
    }
   ],
   "source": [
    "#Dictionary values to a list \n",
    "list(data.values())"
   ]
  },
  {
   "cell_type": "markdown",
   "id": "d13131c6",
   "metadata": {},
   "source": [
    "### A List in a Dictionary: How to unpack all of the entries"
   ]
  },
  {
   "cell_type": "code",
   "execution_count": 84,
   "id": "cd81cd95",
   "metadata": {},
   "outputs": [],
   "source": [
    "fav_language={'jen':['python','ruby'],\n",
    "             'sarah':['c'],\n",
    "             'edward':['ruby','java'],\n",
    "             'phil':['python','java']}\n"
   ]
  },
  {
   "cell_type": "code",
   "execution_count": 85,
   "id": "1d594da7",
   "metadata": {},
   "outputs": [
    {
     "data": {
      "text/plain": [
       "{'jen': ['python', 'ruby'],\n",
       " 'sarah': ['c'],\n",
       " 'edward': ['ruby', 'java'],\n",
       " 'phil': ['python', 'java']}"
      ]
     },
     "execution_count": 85,
     "metadata": {},
     "output_type": "execute_result"
    }
   ],
   "source": [
    "fav_language"
   ]
  },
  {
   "cell_type": "code",
   "execution_count": 97,
   "id": "e9a96ec4",
   "metadata": {},
   "outputs": [
    {
     "name": "stdout",
     "output_type": "stream",
     "text": [
      "Name is Jen and the favorite languages are: \n",
      "\t\t\t\t\t python\n",
      "\t\t\t\t\t ruby\n",
      "Name is Sarah and the favorite languages are: \n",
      "\t\t\t\t\t c\n",
      "Name is Edward and the favorite languages are: \n",
      "\t\t\t\t\t ruby\n",
      "\t\t\t\t\t java\n",
      "Name is Phil and the favorite languages are: \n",
      "\t\t\t\t\t python\n",
      "\t\t\t\t\t java\n"
     ]
    }
   ],
   "source": [
    "for name, subjects in fav_language.items():\n",
    "    print(f\"Name is {name.title()} and the favorite languages are: \")\n",
    "    for i in subjects:\n",
    "        print(\"\\t\\t\\t\\t\\t\",i)\n"
   ]
  },
  {
   "cell_type": "code",
   "execution_count": null,
   "id": "9796242d",
   "metadata": {},
   "outputs": [],
   "source": []
  },
  {
   "cell_type": "markdown",
   "id": "7543bcaf",
   "metadata": {},
   "source": [
    "###  A Dictionary in a Dictionary"
   ]
  },
  {
   "cell_type": "code",
   "execution_count": 99,
   "id": "5716262d",
   "metadata": {},
   "outputs": [],
   "source": [
    "user={'est':{\n",
    "    'first':'albert',\n",
    "    'last':'einstein',\n",
    "    'location':'prinston'\n",
    "},\n",
    "      'mcurie':{\n",
    "          'first':'marie',\n",
    "          'last':'curie',\n",
    "          'location':'paris'\n",
    "      }   \n",
    "    \n",
    "    \n",
    "}"
   ]
  },
  {
   "cell_type": "code",
   "execution_count": 101,
   "id": "7aaca1c4",
   "metadata": {},
   "outputs": [
    {
     "data": {
      "text/plain": [
       "'albert'"
      ]
     },
     "execution_count": 101,
     "metadata": {},
     "output_type": "execute_result"
    }
   ],
   "source": [
    "#albert\n",
    "user['est']['first']\n"
   ]
  },
  {
   "cell_type": "code",
   "execution_count": 102,
   "id": "8663d322",
   "metadata": {},
   "outputs": [
    {
     "data": {
      "text/plain": [
       "'paris'"
      ]
     },
     "execution_count": 102,
     "metadata": {},
     "output_type": "execute_result"
    }
   ],
   "source": [
    "#paris\n",
    "user['mcurie']['location']"
   ]
  },
  {
   "cell_type": "code",
   "execution_count": 111,
   "id": "620dfe32",
   "metadata": {},
   "outputs": [
    {
     "name": "stdout",
     "output_type": "stream",
     "text": [
      "Username: est\n",
      "albert einstein\n",
      "location:  prinston\n",
      "Username: mcurie\n",
      "marie curie\n",
      "location:  paris\n"
     ]
    }
   ],
   "source": [
    "for username, user_info in user.items():\n",
    "    print(\"Username: \"+username)\n",
    "    #print(user_info)\n",
    "    full_name=user_info['first']+\" \"+user_info['last']\n",
    "    print(full_name)\n",
    "    print('location: ',user_info['location'])"
   ]
  },
  {
   "cell_type": "code",
   "execution_count": null,
   "id": "b1659626",
   "metadata": {},
   "outputs": [],
   "source": []
  }
 ],
 "metadata": {
  "kernelspec": {
   "display_name": "Python 3 (ipykernel)",
   "language": "python",
   "name": "python3"
  },
  "language_info": {
   "codemirror_mode": {
    "name": "ipython",
    "version": 3
   },
   "file_extension": ".py",
   "mimetype": "text/x-python",
   "name": "python",
   "nbconvert_exporter": "python",
   "pygments_lexer": "ipython3",
   "version": "3.11.4"
  }
 },
 "nbformat": 4,
 "nbformat_minor": 5
}
