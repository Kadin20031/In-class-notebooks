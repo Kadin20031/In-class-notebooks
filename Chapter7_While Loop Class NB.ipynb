{
 "cells": [
  {
   "cell_type": "markdown",
   "metadata": {
    "slideshow": {
     "slide_type": "-"
    }
   },
   "source": [
    "# While Loop\n",
    "* The for loop takes a collection of items and executes a block of code once for each item in the collection. \n",
    "* In contrast, the while loop runs as long as, or while, a certain condition is true."
   ]
  },
  {
   "cell_type": "markdown",
   "metadata": {},
   "source": [
    "## The while Loop in Action\n",
    "You can use a while loop to count up through a series of numbers. For\n",
    "example, the following while loop counts from 1 to 5:\n"
   ]
  },
  {
   "cell_type": "code",
   "execution_count": null,
   "metadata": {},
   "outputs": [],
   "source": [
    "#For loop to print number 1 to 5\n",
    "for i in range(1,6):\n",
    "    print(i)"
   ]
  },
  {
   "cell_type": "code",
   "execution_count": null,
   "metadata": {},
   "outputs": [],
   "source": []
  },
  {
   "cell_type": "code",
   "execution_count": null,
   "metadata": {},
   "outputs": [],
   "source": [
    "j=10\n",
    "while j <=50:\n",
    "    print(j, end=\" \")\n",
    "    j+=1 # j = j+1 "
   ]
  },
  {
   "cell_type": "code",
   "execution_count": null,
   "metadata": {},
   "outputs": [],
   "source": [
    "#print even numbers 10 to 50 usnig why loop\n",
    "j=10\n",
    "while j <= 50:\n",
    "    if j%2==0:\n",
    "        print(j, end=\" \")\n",
    "    j+=1\n"
   ]
  },
  {
   "cell_type": "code",
   "execution_count": null,
   "metadata": {},
   "outputs": [],
   "source": [
    "#print all odd numbers 15 to 30 using while loop and for loop\n",
    "j=15\n",
    "while j <= 30:\n",
    "    if j%2!=0:\n",
    "        print(j, end=\" \")\n",
    "    j+=1"
   ]
  },
  {
   "cell_type": "code",
   "execution_count": null,
   "metadata": {},
   "outputs": [],
   "source": [
    "for j in range(15,31):\n",
    "    if j%2==1:\n",
    "        print(j, end=\" \")"
   ]
  },
  {
   "cell_type": "code",
   "execution_count": null,
   "metadata": {},
   "outputs": [],
   "source": [
    "#print hello 10 times using for loop and while loop\n",
    "\n",
    "j=1 \n",
    "while j <= 10:\n",
    "    print(f'Hello {j}', end=\" \")\n",
    "    j+=1\n",
    "for i in range(10):\n",
    "    print('Hello', end=\" \")"
   ]
  },
  {
   "cell_type": "markdown",
   "metadata": {},
   "source": [
    "### Write a code to print the numbers between 10 to 30 which are divisible by 5\n",
    "- while loop\n",
    "- for loop"
   ]
  },
  {
   "cell_type": "code",
   "execution_count": null,
   "metadata": {},
   "outputs": [],
   "source": [
    "#While loop\n",
    "j=10 \n",
    "while j <= 30:\n",
    "    if j%5 == 0:\n",
    "        print(f'{j}',end=\" \")\n",
    "    j+=1\n",
    "    \n"
   ]
  },
  {
   "cell_type": "markdown",
   "metadata": {},
   "source": [
    "## Letting the User Choose When to Quit"
   ]
  },
  {
   "cell_type": "code",
   "execution_count": null,
   "metadata": {},
   "outputs": [],
   "source": [
    "prompt=\"\\nTell me anything and I will repeat it back to you. Enter \\'quit\\' to end the loop \"\n",
    "\n",
    "message=\" \" #initialize \n",
    "while message != 'quit':\n",
    "    message=input(prompt)\n",
    "    print(f\"\\nThe user input is {message}\")"
   ]
  },
  {
   "cell_type": "markdown",
   "metadata": {},
   "source": [
    "## A Flag"
   ]
  },
  {
   "cell_type": "code",
   "execution_count": 1,
   "metadata": {},
   "outputs": [
    {
     "name": "stdout",
     "output_type": "stream",
     "text": [
      "\n",
      "Tell me anything and I will repeat it back to you. Enter 'quit' to end the loop.quir\n",
      "quir\n",
      "\n",
      "Tell me anything and I will repeat it back to you. Enter 'quit' to end the loop.quit\n"
     ]
    }
   ],
   "source": [
    "prompt=\"\\nTell me anything and I will repeat it back to you. Enter \\'quit\\' to end the loop.\"\n",
    "#flag\n",
    "active=True\n",
    "while active:\n",
    "    message=input(prompt)\n",
    "    if message == 'quit':\n",
    "        active=False # the flag turned off\n",
    "    else:\n",
    "        print(message)"
   ]
  },
  {
   "cell_type": "markdown",
   "metadata": {
    "slideshow": {
     "slide_type": "subslide"
    }
   },
   "source": [
    "### For a program that should run only as long as many conditions are true, you can define one variable that determines whether or not the entire program is active. This variable, called a `flag`, acts as a signal to the program."
   ]
  },
  {
   "cell_type": "code",
   "execution_count": null,
   "metadata": {},
   "outputs": [],
   "source": []
  },
  {
   "cell_type": "code",
   "execution_count": null,
   "metadata": {},
   "outputs": [],
   "source": []
  },
  {
   "cell_type": "code",
   "execution_count": null,
   "metadata": {},
   "outputs": [],
   "source": []
  },
  {
   "cell_type": "markdown",
   "metadata": {},
   "source": [
    "## Using break to Exit a Loop\n",
    "To exit a while loop immediately without running any remaining code in the\n",
    "loop, regardless of the results of any conditional test, use the break statement."
   ]
  },
  {
   "cell_type": "code",
   "execution_count": null,
   "metadata": {},
   "outputs": [],
   "source": [
    "prompt=\"\\nTell me anything and I will repeat it back to you. Enter \\'quit\\' to end the loop.\"\n",
    "friends=\" \"\n",
    "active=True\n",
    "while active:\n",
    "    friends=input(prompt)\n",
    "    if friends=='quit':\n",
    "        break\n",
    "    else:\n",
    "        print(friends)"
   ]
  },
  {
   "cell_type": "code",
   "execution_count": null,
   "metadata": {},
   "outputs": [],
   "source": []
  },
  {
   "cell_type": "code",
   "execution_count": null,
   "metadata": {},
   "outputs": [],
   "source": []
  },
  {
   "cell_type": "markdown",
   "metadata": {},
   "source": [
    "### Guess the number"
   ]
  },
  {
   "cell_type": "code",
   "execution_count": 14,
   "metadata": {},
   "outputs": [
    {
     "name": "stdout",
     "output_type": "stream",
     "text": [
      "\n",
      " Guess a number between 1 and 10: 3\n",
      "3 is wrong, Guess again\n",
      "\n",
      " Guess a number between 1 and 10: 4\n",
      "4 is wrong, Guess again\n",
      "\n",
      " Guess a number between 1 and 10: 5\n",
      "correct\n"
     ]
    }
   ],
   "source": [
    "prompt=\"\\n Guess a number between 1 and 10: \"\n",
    "number=0\n",
    "active=True\n",
    "while active:\n",
    "    number=int(input(prompt))\n",
    "    if number == 5: \n",
    "        print(\"correct\")\n",
    "        break\n",
    "    else:\n",
    "        print(number, \"is wrong, Guess again\")\n"
   ]
  },
  {
   "cell_type": "code",
   "execution_count": null,
   "metadata": {},
   "outputs": [],
   "source": []
  },
  {
   "cell_type": "markdown",
   "metadata": {},
   "source": [
    "### Guess the number with proper direction"
   ]
  },
  {
   "cell_type": "code",
   "execution_count": 2,
   "metadata": {},
   "outputs": [
    {
     "name": "stdout",
     "output_type": "stream",
     "text": [
      "\n",
      " guess a number between 1 to 10: 1\n",
      "Guess a number bigger than current guess\n",
      "\n",
      " guess a number between 1 to 10: 3\n",
      "Guess a number bigger than current guess\n",
      "\n",
      " guess a number between 1 to 10: 4\n",
      "Guess a number bigger than current guess\n",
      "\n",
      " guess a number between 1 to 10: 5\n",
      "you have guessed correctly!\n"
     ]
    }
   ],
   "source": [
    "prompt=\"\\n guess a number between 1 to 10: \"\n",
    "number=0\n",
    "active=True\n",
    "while active:\n",
    "    number=int(input(prompt))\n",
    "    if number == 5:\n",
    "        print(\"you have guessed correctly!\")\n",
    "        break\n",
    "    elif number <5 and number >= 0:\n",
    "        print(\"Guess a number bigger than current guess\")\n",
    "    elif number > 5 and number <= 10:\n",
    "        print(\"Guess a number less than current guess\")\n",
    "    else:\n",
    "        print(\"Not a correct number, guess again\")\n",
    "        "
   ]
  },
  {
   "cell_type": "code",
   "execution_count": null,
   "metadata": {},
   "outputs": [],
   "source": []
  },
  {
   "cell_type": "markdown",
   "metadata": {},
   "source": [
    "### Break with for loop"
   ]
  },
  {
   "cell_type": "code",
   "execution_count": 21,
   "metadata": {},
   "outputs": [
    {
     "name": "stdout",
     "output_type": "stream",
     "text": [
      "10 11 12 13 14 "
     ]
    }
   ],
   "source": [
    "# print the numbers between 10 to 30\n",
    "# break the loop at the number 15 \n",
    "\n",
    "for i in range(10,31):\n",
    "    if i==15:\n",
    "        break\n",
    "    print(i, end=\" \")"
   ]
  },
  {
   "cell_type": "code",
   "execution_count": null,
   "metadata": {},
   "outputs": [],
   "source": []
  },
  {
   "cell_type": "markdown",
   "metadata": {},
   "source": [
    "### Using continue in a Loop\n",
    "- Rather than breaking out of a loop entirely without executing the rest of its code, \n",
    "- you can use the continue statement to return to the beginning of the loop based on the result of a conditional test. \n",
    "- For example, consider a loop that counts from 1 to 10 but prints only the odd numbers in that range:"
   ]
  },
  {
   "cell_type": "code",
   "execution_count": 22,
   "metadata": {},
   "outputs": [
    {
     "name": "stdout",
     "output_type": "stream",
     "text": [
      "10 11 12 13 14 16 17 18 19 20 21 22 23 24 25 26 27 28 29 "
     ]
    }
   ],
   "source": [
    "for i in range (10,30):\n",
    "    if i==15:\n",
    "        continue\n",
    "    print(i, end=\" \")\n",
    "    \n",
    "#you cannot use continue with a while loop"
   ]
  },
  {
   "cell_type": "code",
   "execution_count": null,
   "metadata": {},
   "outputs": [],
   "source": []
  },
  {
   "cell_type": "markdown",
   "metadata": {},
   "source": [
    "### consider a loop (while/for) that counts from 10 to 20 but prints only the even numbers in that range, use continue statement:"
   ]
  },
  {
   "cell_type": "code",
   "execution_count": 26,
   "metadata": {},
   "outputs": [
    {
     "name": "stdout",
     "output_type": "stream",
     "text": [
      "11 13 15 17 19 "
     ]
    }
   ],
   "source": [
    "for i in range(10,21):\n",
    "    if i%2==0:\n",
    "        continue\n",
    "    else:\n",
    "        print(i, end=\" \")\n",
    "#Inside a while loop continue function will not work "
   ]
  },
  {
   "cell_type": "code",
   "execution_count": 28,
   "metadata": {},
   "outputs": [],
   "source": [
    "#j=10\n",
    "#while j <= 20:\n",
    "    #if j%2 ==0:\n",
    "    #    continue\n",
    "   # else:\n",
    "      #  print(j, end=\" \")\n",
    "  #  j+=1\n",
    "    "
   ]
  },
  {
   "cell_type": "markdown",
   "metadata": {},
   "source": [
    "### Avoiding Infinite Loops"
   ]
  },
  {
   "cell_type": "code",
   "execution_count": null,
   "metadata": {},
   "outputs": [],
   "source": []
  },
  {
   "cell_type": "code",
   "execution_count": null,
   "metadata": {},
   "outputs": [],
   "source": []
  },
  {
   "cell_type": "markdown",
   "metadata": {},
   "source": [
    "### Movie Tickets: A movie theater charges different ticket prices depending on a person’s age. \n",
    "- If a person is under the age of 3, the ticket is free; if they are between 3 and 12, the ticket is 10 dollar\n",
    "- if they are over age 12, the ticket is 15 dollar. \n",
    "Write a while loop in which you ask users their age, and then tell them the cost of their movie ticket."
   ]
  },
  {
   "cell_type": "code",
   "execution_count": null,
   "metadata": {},
   "outputs": [
    {
     "name": "stdout",
     "output_type": "stream",
     "text": [
      "\n",
      " Enter your age to see the price of the movie ticket, input -1 to quit: 16\n",
      "Ticket is 15$ dollars\n"
     ]
    }
   ],
   "source": [
    "prompt=\"\\n Enter your age to see the price of the movie ticket, input -1 to quit: \"\n",
    "age=0\n",
    "active=True\n",
    "while active:\n",
    "    age=int(input(prompt))\n",
    "    if age == -1:\n",
    "        break\n",
    "    elif age <3:\n",
    "        print(\"ticket is free\")\n",
    "    elif age >= 3 and age <= 12:\n",
    "        print(\"ticket is 10$ dollars\")\n",
    "    elif age > 12:\n",
    "        print(\"Ticket is 15$ dollars\")\n"
   ]
  },
  {
   "cell_type": "code",
   "execution_count": null,
   "metadata": {},
   "outputs": [],
   "source": []
  },
  {
   "cell_type": "markdown",
   "metadata": {},
   "source": [
    "## Using a while Loop with Lists and Dictionaries"
   ]
  },
  {
   "cell_type": "markdown",
   "metadata": {},
   "source": [
    "### Moving Items from One List to Another"
   ]
  },
  {
   "cell_type": "code",
   "execution_count": 6,
   "metadata": {},
   "outputs": [
    {
     "name": "stdout",
     "output_type": "stream",
     "text": [
      "Connor\n",
      "Mason\n",
      "Gabe\n",
      "Jack\n",
      "The final list: ['Connor', 'Mason', 'Gabe', 'Jack']\n",
      "Connor, is my peer\n",
      "Mason, is my peer\n",
      "Gabe, is my peer\n",
      "Jack, is my peer\n"
     ]
    }
   ],
   "source": [
    "# Move items from one friends list to peers list \n",
    "#name of the friends \n",
    "# unpack the list\n",
    "friends=['Jack','Gabe','Mason','Connor']\n",
    "peers=[]\n",
    "hold=[]\n",
    "while friends:\n",
    "    hold=friends.pop()\n",
    "    print(hold)\n",
    "    peers.append(hold)\n",
    "\n",
    "print(f\"The final list: {peers}\")\n",
    "\n",
    "\n",
    "#unpack the list\n",
    "for name in peers:\n",
    "    print(f\"{name}, is my peer\")"
   ]
  },
  {
   "cell_type": "code",
   "execution_count": null,
   "metadata": {},
   "outputs": [],
   "source": []
  },
  {
   "cell_type": "markdown",
   "metadata": {},
   "source": [
    "### Removing All Instances of Specific Values from a List"
   ]
  },
  {
   "cell_type": "code",
   "execution_count": 5,
   "metadata": {},
   "outputs": [
    {
     "name": "stdout",
     "output_type": "stream",
     "text": [
      "['dog', 'cat', 'goldfish', 'cat', 'rabbit', 'cat']\n",
      "New list: ['dog', 'goldfish', 'rabbit']\n"
     ]
    }
   ],
   "source": [
    "pets=['dog','cat','goldfish','cat','rabbit','cat']\n",
    "print(pets)\n",
    "#remove cat from the list\n",
    "while 'cat' in pets:\n",
    "    pets.remove('cat')\n",
    "print(f\"New list: {pets}\")"
   ]
  },
  {
   "cell_type": "code",
   "execution_count": null,
   "metadata": {},
   "outputs": [],
   "source": []
  },
  {
   "cell_type": "markdown",
   "metadata": {},
   "source": [
    "### Filling a Dictionary with User Input"
   ]
  },
  {
   "cell_type": "markdown",
   "metadata": {},
   "source": [
    "#### asking the user to input their name as dic keys and their fav food as dic values\n",
    "\n"
   ]
  },
  {
   "cell_type": "code",
   "execution_count": 3,
   "metadata": {},
   "outputs": [
    {
     "name": "stdout",
     "output_type": "stream",
     "text": [
      "what is your name? Kadin\n",
      "what is your favorite food? food\n",
      "Would you like to enter another entry? (yes/no)yes\n",
      "what is your name? Joe\n",
      "what is your favorite food? lemon\n",
      "Would you like to enter another entry? (yes/no)yes\n",
      "what is your name? bill\n",
      "what is your favorite food? carrots\n",
      "Would you like to enter another entry? (yes/no)no\n",
      "{'Kadin': 'food', 'Joe': 'lemon', 'bill': 'carrots'}\n",
      "Kadin love to eat food\n",
      "Joe love to eat lemon\n",
      "bill love to eat carrots\n"
     ]
    }
   ],
   "source": [
    "response={}\n",
    "#poll is a flag\n",
    "poll=True\n",
    "while poll:\n",
    "    name=input(\"what is your name? \")\n",
    "    food=input(\"what is your favorite food? \")\n",
    "    #update method to add items to a dictionary \n",
    "    response.update({name:food})\n",
    "    \n",
    "    repeat=input(\"Would you like to enter another entry? (yes/no)\")\n",
    "    if repeat=='no':\n",
    "        poll=False\n",
    "        #break\n",
    "print(response)\n",
    "#unpack the dictionary \n",
    "for name,food in response.items():\n",
    "    print(f'{name} love to eat {food}')"
   ]
  },
  {
   "cell_type": "markdown",
   "metadata": {},
   "source": [
    "## Shopping list\n",
    "#### create a grocery dicitonary with 5 items and the quanitity\n",
    "* key is item name \n",
    "* value is quantity\n"
   ]
  },
  {
   "cell_type": "code",
   "execution_count": 20,
   "metadata": {},
   "outputs": [
    {
     "name": "stdout",
     "output_type": "stream",
     "text": [
      "What is the food? apple\n",
      "Enter the amount 3\n",
      "Do you want to add another item? (yes/no) yes\n",
      "What is the food? steak\n",
      "Enter the amount 3\n",
      "Do you want to add another item? (yes/no) et\n",
      "What is the food? meme \n",
      "Enter the amount 5\n",
      "Do you want to add another item? (yes/no) no\n",
      "{'apple': 3, 'steak': 3, 'meme ': 5}\n",
      "3 of apple\n",
      "3 of steak\n",
      "5 of meme \n"
     ]
    }
   ],
   "source": [
    "List={}\n",
    "poll=True\n",
    "while poll:\n",
    "    food=input(\"What is the food? \")\n",
    "    amount=int(input(\"Enter the amount \"))\n",
    "    List.update({food:amount})\n",
    "    repeat=input(\"Do you want to add another item? (yes/no) \")\n",
    "    if repeat==\"no\":\n",
    "        poll=False\n",
    "print(List)\n",
    "for food, amount in List.items():\n",
    "    print(f\"{amount} of {food}\")"
   ]
  },
  {
   "cell_type": "markdown",
   "metadata": {},
   "source": [
    "## Deli: Make a list called sandwich_orders and fill it with the names of various sandwiches. \n",
    "- Then make an empty list called finished_sandwiches. \n",
    "- Loop through the list of sandwich orders and print a message for each order, such as I made your tuna sandwich. \n",
    "- As each sandwich is made, move it to the list of finished sandwiches. \n",
    "- After all the sandwiches have been made, print a message listing each sandwich that was made."
   ]
  },
  {
   "cell_type": "code",
   "execution_count": 7,
   "metadata": {},
   "outputs": [
    {
     "name": "stdout",
     "output_type": "stream",
     "text": [
      "I made your Peanut Butter Sandwich\n",
      "I made your Cheese Sandwich\n",
      "I made your Buffulo Sandwich\n",
      "I made your Philiy Sandwich\n",
      "I made your Turkey Sandwich\n",
      "I made your Ham Sandwich\n",
      "['Peanut Butter', 'Cheese', 'Buffulo', 'Philiy', 'Turkey', 'Ham']\n"
     ]
    }
   ],
   "source": [
    "sandwich_orders=['Ham','Turkey','Philiy','Buffulo','Cheese','Peanut Butter']\n",
    "finished_sandwiches=[]\n",
    "hold=\" \"\n",
    "while sandwich_orders:\n",
    "    hold=sandwich_orders.pop()\n",
    "    print(f\"I made your {hold} Sandwich\")\n",
    "    finished_sandwiches.append(hold)\n",
    "\n",
    "print(finished_sandwiches)\n"
   ]
  },
  {
   "cell_type": "code",
   "execution_count": null,
   "metadata": {},
   "outputs": [],
   "source": []
  },
  {
   "cell_type": "markdown",
   "metadata": {},
   "source": [
    "## Write a program to print n natural number in descending order using a while loop.\n"
   ]
  },
  {
   "cell_type": "code",
   "execution_count": 1,
   "metadata": {},
   "outputs": [
    {
     "name": "stdout",
     "output_type": "stream",
     "text": [
      "Enter the value of n: 20\n",
      "20\n",
      "19\n",
      "18\n",
      "17\n",
      "16\n",
      "15\n",
      "14\n",
      "13\n",
      "12\n",
      "11\n",
      "10\n",
      "9\n",
      "8\n",
      "7\n",
      "6\n",
      "5\n",
      "4\n",
      "3\n",
      "2\n",
      "1\n"
     ]
    }
   ],
   "source": [
    "n=int(input(\"Enter the value of n: \"))\n",
    "#loop will end at zero\n",
    "while n!= 0:\n",
    "    print(n)\n",
    "    n=n-1 \n",
    "    "
   ]
  },
  {
   "cell_type": "code",
   "execution_count": null,
   "metadata": {},
   "outputs": [],
   "source": []
  },
  {
   "cell_type": "markdown",
   "metadata": {},
   "source": [
    "## Factorial of a number"
   ]
  },
  {
   "cell_type": "code",
   "execution_count": 8,
   "metadata": {},
   "outputs": [
    {
     "name": "stdout",
     "output_type": "stream",
     "text": [
      "Enter an integer: 5\n",
      "120\n"
     ]
    }
   ],
   "source": [
    "n=int(input(\"Enter an integer: \"))\n",
    "fact=1\n",
    "while(n):\n",
    "    fact=fact*n\n",
    "    n=n-1\n",
    "print(fact)"
   ]
  },
  {
   "cell_type": "code",
   "execution_count": null,
   "metadata": {},
   "outputs": [],
   "source": []
  },
  {
   "cell_type": "markdown",
   "metadata": {},
   "source": [
    "## Take 10 integers from keyboard using loop and print their sum and average value on the screen"
   ]
  },
  {
   "cell_type": "code",
   "execution_count": 11,
   "metadata": {},
   "outputs": [
    {
     "name": "stdout",
     "output_type": "stream",
     "text": [
      "Enter a number: 1\n",
      "Enter a number: 23\n",
      "Enter a number: 4\n",
      "Enter a number: 5\n",
      "Enter a number: 5\n",
      "Enter a number: 5\n",
      "Enter a number: 5\n",
      "Enter a number: 5\n",
      "Enter a number: 5\n",
      "Enter a number: 5\n",
      "Enter a number: 5\n",
      "average is 6.8\n"
     ]
    }
   ],
   "source": [
    "sum=0\n",
    "i=0\n",
    "while i<=10:\n",
    "    numb=int(input(\"Enter a number: \"))\n",
    "    sum = sum + numb\n",
    "    i +=1\n",
    "print(\"average is\",sum/10)"
   ]
  },
  {
   "cell_type": "markdown",
   "metadata": {},
   "source": []
  },
  {
   "attachments": {
    "image.png": {
     "image/png": "[encoded data removed]"
    }
   },
   "cell_type": "markdown",
   "metadata": {},
   "source": [
    "## Print the following patterns using loop :\n",
    "![image.png](attachment:image.png)"
   ]
  },
  {
   "cell_type": "code",
   "execution_count": 12,
   "metadata": {},
   "outputs": [
    {
     "name": "stdout",
     "output_type": "stream",
     "text": [
      "*\n",
      "**\n",
      "***\n",
      "****\n"
     ]
    }
   ],
   "source": [
    "#Question might be on midterm\n",
    "i=1\n",
    "while i<=4:\n",
    "    print(i*\"*\")\n",
    "    i+=1"
   ]
  },
  {
   "cell_type": "code",
   "execution_count": 13,
   "metadata": {},
   "outputs": [
    {
     "name": "stdout",
     "output_type": "stream",
     "text": [
      "7 14 21 28 35 42 49 "
     ]
    }
   ],
   "source": []
  },
  {
   "cell_type": "markdown",
   "metadata": {},
   "source": [
    "## Write a program to display the first 7 multiples of 7.\n"
   ]
  },
  {
   "cell_type": "code",
   "execution_count": 14,
   "metadata": {},
   "outputs": [
    {
     "name": "stdout",
     "output_type": "stream",
     "text": [
      "7 14 21 28 35 42 49 "
     ]
    }
   ],
   "source": [
    "count=0\n",
    "for i in range(1,100):\n",
    "    if i%7==0:\n",
    "        print(i,end=\" \")\n",
    "        count+=1\n",
    "        #print(\"count\",count)\n",
    "        if count==7:\n",
    "            break"
   ]
  },
  {
   "cell_type": "code",
   "execution_count": null,
   "metadata": {},
   "outputs": [],
   "source": []
  },
  {
   "cell_type": "markdown",
   "metadata": {},
   "source": [
    "## Write a program that appends the square of each number to a new list."
   ]
  },
  {
   "cell_type": "code",
   "execution_count": 15,
   "metadata": {},
   "outputs": [
    {
     "name": "stdout",
     "output_type": "stream",
     "text": [
      "[1, 4, 9, 16, 25]\n"
     ]
    }
   ],
   "source": [
    "x=[1,2,3,4,5]\n",
    "output=[]\n",
    "for i in x:\n",
    "    output.append(i**2)\n",
    "print(output)"
   ]
  },
  {
   "cell_type": "code",
   "execution_count": null,
   "metadata": {},
   "outputs": [],
   "source": []
  },
  {
   "cell_type": "markdown",
   "metadata": {},
   "source": [
    "## Separate positive and negative number from a list.\n",
    "x = [23,12,-4,23,-9,21,3,-45,-8]"
   ]
  },
  {
   "cell_type": "code",
   "execution_count": 16,
   "metadata": {},
   "outputs": [
    {
     "name": "stdout",
     "output_type": "stream",
     "text": [
      "The positive list:  [23, 12, 23, 21, 3]\n",
      "The negative list:  [-4, -9, -45, -8]\n"
     ]
    }
   ],
   "source": [
    "x = [23,12,-4,23,-9,21,3,-45,-8]\n",
    "positive=[]\n",
    "negative=[]\n",
    "for i in x:\n",
    "    if i<0:\n",
    "        negative.append(i)\n",
    "    else:\n",
    "        positive.append(i)\n",
    "print(f\"The positive list: \",positive)\n",
    "print(f\"The negative list: \",negative)"
   ]
  },
  {
   "cell_type": "code",
   "execution_count": null,
   "metadata": {},
   "outputs": [],
   "source": []
  }
 ],
 "metadata": {
  "celltoolbar": "Slideshow",
  "kernelspec": {
   "display_name": "Python 3 (ipykernel)",
   "language": "python",
   "name": "python3"
  },
  "language_info": {
   "codemirror_mode": {
    "name": "ipython",
    "version": 3
   },
   "file_extension": ".py",
   "mimetype": "text/x-python",
   "name": "python",
   "nbconvert_exporter": "python",
   "pygments_lexer": "ipython3",
   "version": "3.11.4"
  }
 },
 "nbformat": 4,
 "nbformat_minor": 2
}
