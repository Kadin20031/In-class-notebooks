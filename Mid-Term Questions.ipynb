{
 "cells": [
  {
   "cell_type": "markdown",
   "id": "6c9765a3",
   "metadata": {},
   "source": [
    "# Question 1\n",
    "## Create a list of 10 numbers and find out the minimum, maximum, and total (sum) of the list. "
   ]
  },
  {
   "cell_type": "code",
   "execution_count": 1,
   "id": "734c7a32",
   "metadata": {},
   "outputs": [
    {
     "name": "stdout",
     "output_type": "stream",
     "text": [
      "10\n",
      "1\n",
      "55\n"
     ]
    }
   ],
   "source": [
    "numbers=[i for i in range(1,11)]\n",
    "\n",
    "print(max(numbers))\n",
    "\n",
    "print(min(numbers))\n",
    "\n",
    "print(sum(numbers))"
   ]
  },
  {
   "cell_type": "markdown",
   "id": "38ceafd7",
   "metadata": {},
   "source": [
    "# Question 2\n",
    "## What is a nested If statement? Get input from a user and check whether the number is odd or not. If the number is odd it is also less than or equal to 20. If not, then print relevant information."
   ]
  },
  {
   "cell_type": "code",
   "execution_count": 5,
   "id": "a3213671",
   "metadata": {},
   "outputs": [
    {
     "name": "stdout",
     "output_type": "stream",
     "text": [
      "Enter a number: 13\n",
      "The number 13 is odd and is less than or equal to 20\n"
     ]
    }
   ],
   "source": [
    "number=int(input(\"Enter a number: \"))\n",
    "\n",
    "if number%2 != 0:\n",
    "\n",
    "    if number <= 20:\n",
    "\n",
    "          print(f\"The number {number} is odd and is less than or equal to 20\")\n",
    "\n",
    "    else:\n",
    "\n",
    "          print(f\"the number {number} is odd and it NOT less than or equal to 20\")\n",
    "\n",
    "else:\n",
    "\n",
    "    print(f\"The number {number} is even\")"
   ]
  },
  {
   "cell_type": "markdown",
   "id": "cf035d10",
   "metadata": {},
   "source": [
    "# Question 3\n",
    "## Get a user input of an integer number and check if the given number is a multiple of 11 or not. "
   ]
  },
  {
   "cell_type": "code",
   "execution_count": 6,
   "id": "b3050000",
   "metadata": {},
   "outputs": [
    {
     "name": "stdout",
     "output_type": "stream",
     "text": [
      "enter a number to see if it is a multiple of 11: 22\n",
      "The number 22 is a multiple of 11\n"
     ]
    }
   ],
   "source": [
    "number=int(input(\"enter a number to see if it is a multiple of 11: \"))\n",
    "\n",
    "if number%11 == 0:\n",
    "\n",
    "   print(f\"The number {number} is a multiple of 11\")\n",
    "\n",
    "else:\n",
    "\n",
    "    print(f\"the number {number} is no a multiple of 11\") "
   ]
  },
  {
   "cell_type": "markdown",
   "id": "09b55cc4",
   "metadata": {},
   "source": [
    "# Question 5\n",
    "## In the United States, as of 1995, a minor is generally legally defined as a person under the age of 18. Write a code to check whether a student is a minor or not where the input will be given by users."
   ]
  },
  {
   "cell_type": "code",
   "execution_count": 14,
   "id": "ec4ebf02",
   "metadata": {},
   "outputs": [
    {
     "name": "stdout",
     "output_type": "stream",
     "text": [
      "Enter the students age: -1\n",
      "Enter a valid age\n"
     ]
    }
   ],
   "source": [
    "age=int(input(\"Enter the students age: \"))\n",
    "if age < 18 and age >= 0:\n",
    "    print(\"The student is a minor\")\n",
    "elif age >= 18: \n",
    "    print(\"The student is an adult\")\n",
    "else:\n",
    "    print('Enter a valid age')"
   ]
  },
  {
   "cell_type": "markdown",
   "id": "be428eae",
   "metadata": {},
   "source": [
    "# Question 8\n",
    "## Write down a program using a for loop that prints all numbers from 1 to 15 and adds them to a list called numbers_list. \n",
    "\n",
    "numbers_list=[1,2,3,4,...15]"
   ]
  },
  {
   "cell_type": "code",
   "execution_count": 19,
   "id": "e8612b89",
   "metadata": {},
   "outputs": [
    {
     "name": "stdout",
     "output_type": "stream",
     "text": [
      "[1, 2, 3, 4, 5, 6, 7, 8, 9, 10, 11, 12, 13, 14, 15]\n"
     ]
    }
   ],
   "source": [
    "numbers_list=[i for i in range(1,16)]\n",
    "print(numbers_list)"
   ]
  }
 ],
 "metadata": {
  "kernelspec": {
   "display_name": "Python 3 (ipykernel)",
   "language": "python",
   "name": "python3"
  },
  "language_info": {
   "codemirror_mode": {
    "name": "ipython",
    "version": 3
   },
   "file_extension": ".py",
   "mimetype": "text/x-python",
   "name": "python",
   "nbconvert_exporter": "python",
   "pygments_lexer": "ipython3",
   "version": "3.11.4"
  }
 },
 "nbformat": 4,
 "nbformat_minor": 5
}
