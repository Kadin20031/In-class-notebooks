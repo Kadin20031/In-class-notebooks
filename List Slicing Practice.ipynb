{
 "cells": [
  {
   "cell_type": "markdown",
   "id": "84114222",
   "metadata": {},
   "source": [
    "### Practice Questions on Lists\n",
    "(Submit the notebook on Moodle using Github along with the class notebook)"
   ]
  },
  {
   "cell_type": "markdown",
   "id": "0891df79",
   "metadata": {},
   "source": [
    "### numbers = [0, 1, 2, 3, 4, 5, 6, 7, 8, 9]\n",
    "1. Get the first three elements.\n",
    "2. Get elements from index 3 to 6 (inclusive).\n",
    "3. Get the last three elements.\n",
    "4. Get every second element from the list.\n",
    "5. Get a reverse of the list."
   ]
  },
  {
   "cell_type": "code",
   "execution_count": 6,
   "id": "5efba997",
   "metadata": {},
   "outputs": [
    {
     "name": "stdout",
     "output_type": "stream",
     "text": [
      "first three numbers [0, 1, 2]\n",
      "Numbers 3 to 6 [3, 4, 5, 6]\n",
      "Last 3 elements [7, 8, 9]\n",
      "Every second element from list [0, 2, 4, 6, 8]\n",
      "Revers of the list [9, 8, 7, 6, 5, 4, 3, 2, 1, 0]\n"
     ]
    }
   ],
   "source": [
    "numbers=[0,1,2,3,4,5,6,7,8,9]\n",
    "print(f\"first three numbers {numbers[:3]}\")\n",
    "print(f\"Numbers 3 to 6 {numbers[3:7]}\") #print any index then you have to reverse which number is offset i.e. begining will be numerical value\n",
    "print(f\"Last 3 elements {numbers [-3:]}\")\n",
    "print(f\"Every second element from list {numbers[::2]}\")\n",
    "print(f\"Revers of the list {numbers[::-1]}\")\n"
   ]
  },
  {
   "cell_type": "code",
   "execution_count": null,
   "id": "2183500f",
   "metadata": {},
   "outputs": [],
   "source": []
  },
  {
   "cell_type": "markdown",
   "id": "dcc22463",
   "metadata": {},
   "source": [
    "### letters = ['a', 'b', 'c', 'd', 'e', 'f', 'g', 'h', 'i', 'j']\n",
    "1. Get every second letter starting from the first letter.\n",
    "2. Get every third letter starting from the second letter.\n",
    "3. Get every fourth letter starting from the third letter."
   ]
  },
  {
   "cell_type": "code",
   "execution_count": 8,
   "id": "34576f2b",
   "metadata": {},
   "outputs": [
    {
     "name": "stdout",
     "output_type": "stream",
     "text": [
      "Every second letter from the start['a', 'c', 'e', 'g', 'i']\n",
      "Every third letter from the second letter ['b', 'e', 'h']\n",
      "Every fourth letter from the third ['c', 'g']\n"
     ]
    }
   ],
   "source": [
    "letters = ['a', 'b', 'c', 'd', 'e', 'f', 'g', 'h', 'i', 'j']\n",
    "print(f\"Every second letter from the start{letters[::2]}\")\n",
    "print(f\"Every third letter from the second letter {letters[1::3]}\")\n",
    "print(f\"Every fourth letter from the third {letters[2::4]}\")"
   ]
  },
  {
   "cell_type": "code",
   "execution_count": null,
   "id": "7f3f0694",
   "metadata": {},
   "outputs": [],
   "source": []
  },
  {
   "cell_type": "markdown",
   "id": "ee041ed9",
   "metadata": {},
   "source": [
    "### colors = ['red', 'green', 'blue', 'yellow', 'purple']\n",
    "1. Get the last two elements.\n",
    "2. Get elements from the third to the last element.\n",
    "3. Get a reverse of the list using negative indexing."
   ]
  },
  {
   "cell_type": "code",
   "execution_count": 15,
   "id": "0e5e09a0",
   "metadata": {},
   "outputs": [
    {
     "name": "stdout",
     "output_type": "stream",
     "text": [
      "Last two elements ['yellow', 'purple']\n",
      "From the third to last ['blue', 'yellow', 'purple']\n",
      "Reverse of the list ['purple', 'yellow', 'blue', 'green', 'red']\n",
      "Reverse list with step of 2 ['purple', 'blue', 'red']\n"
     ]
    }
   ],
   "source": [
    "colors = ['red', 'green', 'blue', 'yellow', 'purple']\n",
    "print(f\"Last two elements {colors[-2:]}\")\n",
    "print(f\"From the third to last {colors[2:]}\")\n",
    "print(f\"Reverse of the list {colors[::-1]}\")\n",
    "print(f\"Reverse list with step of 2 {colors[::-2]}\")"
   ]
  },
  {
   "cell_type": "code",
   "execution_count": null,
   "id": "54a6f796",
   "metadata": {},
   "outputs": [],
   "source": []
  },
  {
   "cell_type": "markdown",
   "id": "015a43d4",
   "metadata": {},
   "source": [
    "## Slicing Nested Lists\n",
    "### matrix = [[1, 2, 3], [4, 5, 6], [7, 8, 9]]\n",
    "1. Extract the second row (list [4, 5, 6]).\n",
    "2. Extract the number 2.\n",
    "3. Extract the number 9."
   ]
  },
  {
   "cell_type": "code",
   "execution_count": 24,
   "id": "b45aca96",
   "metadata": {},
   "outputs": [
    {
     "name": "stdout",
     "output_type": "stream",
     "text": [
      "Extract second row [4, 5, 6]\n",
      "Extract the number 2: [2]\n",
      "Extract number 9: [9]\n"
     ]
    }
   ],
   "source": [
    "matrix = [[1, 2, 3], [4, 5, 6], [7, 8, 9]]\n",
    "print(f\"Extract second row {matrix[1]}\")\n",
    "print(f\"Extract the number 2: [{matrix[0][1]}]\")\n",
    "print(f\"Extract number 9: [{matrix[2][-1]}]\")"
   ]
  },
  {
   "cell_type": "markdown",
   "id": "9ddccced",
   "metadata": {},
   "source": [
    "### Matrix1=['Day',[23,45],'Monday',[[12,13],[14,15]]]\n",
    "- print Monday\n",
    "- print 13 \n",
    "- print 15\n",
    "- print 45\n",
    "- print Day "
   ]
  },
  {
   "cell_type": "code",
   "execution_count": 26,
   "id": "f6912ee9",
   "metadata": {},
   "outputs": [
    {
     "name": "stdout",
     "output_type": "stream",
     "text": [
      "['Day', [23, 45], 'Monday', [[12, 13], [14, 15]]]\n"
     ]
    }
   ],
   "source": [
    "Matrix1=['Day',[23,45],'Monday',[[12,13],[14,15]]]\n",
    "print(Matrix1)"
   ]
  },
  {
   "cell_type": "code",
   "execution_count": 33,
   "id": "cca947c1",
   "metadata": {},
   "outputs": [
    {
     "name": "stdout",
     "output_type": "stream",
     "text": [
      "Monday: [Monday]\n",
      "13\n",
      "15\n",
      "45\n",
      "Day\n"
     ]
    }
   ],
   "source": [
    "print(f\"Monday: [{Matrix1[2]}]\")\n",
    "print(Matrix1[3][0][1])\n",
    "print(Matrix1[3][1][1])\n",
    "print(Matrix1[1][1])\n",
    "print(Matrix1[0])"
   ]
  },
  {
   "cell_type": "code",
   "execution_count": null,
   "id": "3d70a37c",
   "metadata": {},
   "outputs": [],
   "source": []
  }
 ],
 "metadata": {
  "kernelspec": {
   "display_name": "Python 3 (ipykernel)",
   "language": "python",
   "name": "python3"
  },
  "language_info": {
   "codemirror_mode": {
    "name": "ipython",
    "version": 3
   },
   "file_extension": ".py",
   "mimetype": "text/x-python",
   "name": "python",
   "nbconvert_exporter": "python",
   "pygments_lexer": "ipython3",
   "version": "3.11.4"
  }
 },
 "nbformat": 4,
 "nbformat_minor": 5
}
